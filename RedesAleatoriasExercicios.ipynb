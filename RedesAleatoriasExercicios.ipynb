{
  "nbformat": 4,
  "nbformat_minor": 0,
  "metadata": {
    "colab": {
      "name": "RedesAleatoriasExercicios.ipynb",
      "provenance": [],
      "toc_visible": true,
      "authorship_tag": "ABX9TyMalQlLdCRXQLmd7vCjzp7B",
      "include_colab_link": true
    },
    "kernelspec": {
      "name": "python3",
      "display_name": "Python 3"
    }
  },
  "cells": [
    {
      "cell_type": "markdown",
      "metadata": {
        "id": "view-in-github",
        "colab_type": "text"
      },
      "source": [
        "<a href=\"https://colab.research.google.com/github/folivetti/ComunicacaoRedesColab/blob/master/RedesAleatoriasExercicios.ipynb\" target=\"_parent\"><img src=\"https://colab.research.google.com/assets/colab-badge.svg\" alt=\"Open In Colab\"/></a>"
      ]
    },
    {
      "cell_type": "code",
      "metadata": {
        "id": "rZTgTDj-N1Yf",
        "colab_type": "code",
        "colab": {}
      },
      "source": [
        "import networkx as nx\n",
        "from networkx.generators.random_graphs import *\n",
        "import numpy as np"
      ],
      "execution_count": 2,
      "outputs": []
    },
    {
      "cell_type": "code",
      "metadata": {
        "id": "UcGpY3JrPdbQ",
        "colab_type": "code",
        "colab": {}
      },
      "source": [
        "def grau_medio(G):\n",
        "  soma = 0.0\n",
        "  tot  = 0\n",
        "  for v, g in nx.degree(G):\n",
        "    soma += g\n",
        "    tot  += 1\n",
        "  return soma / tot"
      ],
      "execution_count": 3,
      "outputs": []
    },
    {
      "cell_type": "markdown",
      "metadata": {
        "id": "s35xK7_4e33H",
        "colab_type": "text"
      },
      "source": [
        "# Modelo Erdos-Renyi"
      ]
    },
    {
      "cell_type": "code",
      "metadata": {
        "id": "53fHw0OrN4BN",
        "colab_type": "code",
        "colab": {
          "base_uri": "https://localhost:8080/",
          "height": 109
        },
        "outputId": "3c846998-fc8c-40af-8827-dfd8db495cd5"
      },
      "source": [
        "n = 100\n",
        "p = 0.05\n",
        "\n",
        "G = erdos_renyi_graph(n, p)\n",
        "\n",
        "print('Número de arestas: ', G.number_of_edges())\n",
        "print('Grau médio: ', grau_medio(G))\n",
        "print('Coef. de agrupamento médio: ', nx.average_clustering(G))\n",
        "print('Distância média: ', nx.average_shortest_path_length(G) if nx.is_connected(G) else \"infinito\")\n",
        "print('Componentes conexos: ', nx.number_connected_components(G))"
      ],
      "execution_count": 63,
      "outputs": [
        {
          "output_type": "stream",
          "text": [
            "Número de arestas:  35966\n",
            "Grau médio:  239.77333333333334\n",
            "Coef. de agrupamento médio:  0.8019872789029414\n",
            "Distância média:  1.198082497212932\n",
            "Componentes conexos:  1\n"
          ],
          "name": "stdout"
        }
      ]
    },
    {
      "cell_type": "markdown",
      "metadata": {
        "id": "L4JFQM9iR2C2",
        "colab_type": "text"
      },
      "source": [
        "# Modelo Watts-Strogatz"
      ]
    },
    {
      "cell_type": "code",
      "metadata": {
        "id": "LZ3EZ9SCUm-F",
        "colab_type": "code",
        "colab": {
          "base_uri": "https://localhost:8080/",
          "height": 109
        },
        "outputId": "33ae900f-ba9c-41d8-ee9b-0ea771a1fe14"
      },
      "source": [
        "n = 100\n",
        "p = 0.05\n",
        "\n",
        "G = watts_strogatz_graph(n, 4, p)\n",
        "\n",
        "print('Número de arestas: ', G.number_of_edges())\n",
        "print('Grau médio: ', grau_medio(G))\n",
        "print('Coef. de agrupamento médio: ', nx.average_clustering(G))\n",
        "print('Distância média: ', nx.average_shortest_path_length(G) if nx.is_connected(G) else \"infinito\")\n",
        "print('Componentes conexos: ', nx.number_connected_components(G))"
      ],
      "execution_count": 49,
      "outputs": [
        {
          "output_type": "stream",
          "text": [
            "Número de arestas:  2000\n",
            "Grau médio:  4.0\n",
            "Coef. de agrupamento médio:  0.3572333333333326\n",
            "Distância média:  8.507577577577578\n",
            "Componentes conexos:  1\n"
          ],
          "name": "stdout"
        }
      ]
    },
    {
      "cell_type": "markdown",
      "metadata": {
        "id": "cecme2o6R7QA",
        "colab_type": "text"
      },
      "source": [
        "# Seis Graus de Separação"
      ]
    },
    {
      "cell_type": "code",
      "metadata": {
        "id": "CMocX3yKR83d",
        "colab_type": "code",
        "colab": {}
      },
      "source": [
        "def constroi_rede():\n",
        "    G = nx.Graph()\n",
        "\n",
        "    f = open(\"movies.csv\", \"r\")\n",
        "    for movie in f.readlines()[1:]:\n",
        "        dados = movie.split(\",\")\n",
        "        id_node = int(dados[0])\n",
        "        nome = dados[1]\n",
        "        G.add_node(id_node, bipartite=0, nome=nome)\n",
        "    f.close()\n",
        "\n",
        "    atores = []\n",
        "    f = open(\"people.csv\", \"r\")\n",
        "    for actor in f.readlines()[1:]:\n",
        "        dados = actor.split(\",\")\n",
        "        id_node = int(dados[0])\n",
        "        nome = dados[1]\n",
        "        G.add_node(id_node, bipartite=1, nome=nome)\n",
        "        atores.append(id_node)\n",
        "    f.close()\n",
        "\n",
        "    f = open(\"stars.csv\", \"r\")\n",
        "    for aresta in f.readlines()[1:]:\n",
        "        dados = aresta.split(\",\")\n",
        "        vi = int(dados[0])\n",
        "        vj = int(dados[1])\n",
        "        G.add_edge(vi,vj)\n",
        "    f.close()\n",
        "\n",
        "    return nx.projected_graph(G, atores)\n",
        "\n",
        "def grau_separacao(G, n):\n",
        "    tamanhos = list(nx.shortest_path_length(G, n).values())\n",
        "    return np.mean(tamanhos), np.max(tamanhos)\n",
        "\n",
        "def maior_grau(G):\n",
        "    graus = list(G.degree())\n",
        "    return max(graus, key=lambda x: x[1])[0]\n",
        "\n",
        "def maior_agrupamento(G):\n",
        "    coefs = nx.clustering(G)\n",
        "    return max(coefs.items(), key=lambda x: x[1])[0]\n",
        "\n",
        "def maior_intermedio(G):\n",
        "    bet = nx.betweenness_centrality(G, k=10)\n",
        "    return max(bet.items(), key=lambda x: x[1])[0]\n",
        "\n",
        "G = constroi_rede()\n",
        "\n",
        "ator = 102 # Kevin Bacon\n",
        "medio, maximo = grau_separacao(G, ator)\n",
        "print(f\"{G.nodes[ator]['nome']} - Grau médio: {medio} - Grau máximo: {maximo}\")\n",
        "\n",
        "ator = 115 # Nicolas Cage\n",
        "medio, maximo = grau_separacao(G, ator)\n",
        "print(f\"{G.nodes[ator]['nome']} - Grau médio: {medio} - Grau máximo: {maximo}\")\n",
        "\n",
        "ator = 329 # Jackie Chan\n",
        "medio, maximo = grau_separacao(G, ator)\n",
        "print(f\"{G.nodes[ator]['nome']} - Grau médio: {medio} - Grau máximo: {maximo}\")\n",
        "\n",
        "ator = maior_grau(G)\n",
        "medio, maximo = grau_separacao(G, ator)\n",
        "print(f\"Critério maior grau: {G.nodes[ator]['nome']} - Grau médio: {medio} - Grau máximo: {maximo}\")\n",
        "\n",
        "ator = maior_agrupamento(G)\n",
        "medio, maximo = grau_separacao(G, ator)\n",
        "print(f\"Critério maior coeficiente de agrupamento: {G.nodes[ator]['nome']} - Grau médio: {medio} - Grau máximo: {maximo}\")\n",
        "\n",
        "ator = maior_intermedio(G)\n",
        "medio, maximo = grau_separacao(G, ator)\n",
        "print(f\"Critério maior betweenness: {G.nodes[ator]['nome']} - Grau médio: {medio} - Grau máximo: {maximo}\")"
      ],
      "execution_count": null,
      "outputs": []
    },
    {
      "cell_type": "markdown",
      "metadata": {
        "id": "t6227j3qR5EU",
        "colab_type": "text"
      },
      "source": [
        "# Modelo Barabasi-Albert"
      ]
    },
    {
      "cell_type": "code",
      "metadata": {
        "id": "i_o429S3Updp",
        "colab_type": "code",
        "colab": {}
      },
      "source": [
        "n = 100\n",
        "p = 0.05\n",
        "\n",
        "G = barabasi_albert_graph(n, p)\n",
        "\n",
        "print('Número de arestas: ', G.number_of_edges())\n",
        "print('Grau médio: ', grau_medio(G))\n",
        "print('Coef. de agrupamento médio: ', nx.average_clustering(G))\n",
        "print('Distância média: ', nx.average_shortest_path_length(G) if nx.is_connected(G) else \"infinito\")\n",
        "print('Componentes conexos: ', nx.number_connected_components(G))"
      ],
      "execution_count": null,
      "outputs": []
    },
    {
      "cell_type": "markdown",
      "metadata": {
        "id": "OKZquHx2rfpe",
        "colab_type": "text"
      },
      "source": [
        "# Assortatividade"
      ]
    },
    {
      "cell_type": "code",
      "metadata": {
        "id": "-dMLV3lerhE7",
        "colab_type": "code",
        "colab": {
          "base_uri": "https://localhost:8080/",
          "height": 72
        },
        "outputId": "4d670e5f-f2af-4cc9-f35e-43b6cc754ab6"
      },
      "source": [
        "G = nx.read_gexf(\"receitas.gexf\")\n",
        "\n",
        "print(\"Assortatividade de Grau = \", nx.degree_assortativity_coefficient(G))\n",
        "print(\"Assortatividade de País = \", nx.attribute_assortativity_coefficient(G, 'country'))\n",
        "print(\"Assortatividade de Categoria = \", nx.attribute_assortativity_coefficient(G, 'category'))"
      ],
      "execution_count": 8,
      "outputs": [
        {
          "output_type": "stream",
          "text": [
            "Assortatividade de Grau =  0.4016560985682666\n",
            "Assortatividade de País =  0.2731196054254008\n",
            "Assortatividade de Categoria =  0.4144095219715364\n"
          ],
          "name": "stdout"
        }
      ]
    },
    {
      "cell_type": "code",
      "metadata": {
        "id": "AR0eedB6sRKf",
        "colab_type": "code",
        "colab": {}
      },
      "source": [
        ""
      ],
      "execution_count": null,
      "outputs": []
    }
  ]
}